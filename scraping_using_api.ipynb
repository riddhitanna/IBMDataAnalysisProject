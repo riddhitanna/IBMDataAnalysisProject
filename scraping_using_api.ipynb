{
 "cells": [
  {
   "cell_type": "markdown",
   "metadata": {},
   "source": [
    "# Collecting data using APIs"
   ]
  },
  {
   "cell_type": "markdown",
   "metadata": {},
   "source": [
    "Accessing GitHub job API to get information on the number of jobs available for a particular language. "
   ]
  },
  {
   "cell_type": "code",
   "execution_count": 30,
   "metadata": {},
   "outputs": [],
   "source": [
    "import requests \n",
    "baseurl = 'https://jobs.github.com/positions.json'\n",
    "list_languages = ['c','c++','c#','java','javascript','python','scala','oracle','sql server','mysql server', 'postgresql','mongodb']"
   ]
  },
  {
   "cell_type": "code",
   "execution_count": 31,
   "metadata": {},
   "outputs": [],
   "source": [
    "def get_number_of_jobs(technology):\n",
    "    number_of_jobs = 0\n",
    "    payload = {\"description\":technology}\n",
    "    r = requests.get(baseurl, params=payload)\n",
    "    if r.ok:\n",
    "        data = r.json()\n",
    "    number_of_jobs = len(data)\n",
    "    if number_of_jobs==50:\n",
    "        i=1\n",
    "        while(number_of_jobs%50==0):\n",
    "            payload = {\"description\":technology, \"page\":i}\n",
    "            r1 = requests.get(baseurl, params=payload)\n",
    "            if r1.ok:\n",
    "                data1 = r1.json()\n",
    "            number_of_jobs += len(data1)\n",
    "            i= i+1\n",
    "    #data_dict = \n",
    "    data_json = json.dumps({'tech':technology, 'jobs':number_of_jobs})\n",
    "    return data_json"
   ]
  },
  {
   "cell_type": "code",
   "execution_count": 18,
   "metadata": {},
   "outputs": [
    {
     "name": "stdout",
     "output_type": "stream",
     "text": [
      "{\"tech\": \"c\", \"jobs\": 197}\n",
      "{\"tech\": \"c++\", \"jobs\": 14}\n",
      "{\"tech\": \"c#\", \"jobs\": 12}\n",
      "{\"tech\": \"java\", \"jobs\": 122}\n",
      "{\"tech\": \"javascript\", \"jobs\": 103}\n",
      "{\"tech\": \"python\", \"jobs\": 38}\n",
      "{\"tech\": \"scala\", \"jobs\": 39}\n",
      "{\"tech\": \"oracle\", \"jobs\": 4}\n",
      "{\"tech\": \"sql server\", \"jobs\": 12}\n",
      "{\"tech\": \"mysql server\", \"jobs\": 2}\n",
      "{\"tech\": \"postgresql\", \"jobs\": 11}\n",
      "{\"tech\": \"mongodb\", \"jobs\": 6}\n"
     ]
    }
   ],
   "source": [
    "print(get_number_of_jobs('c'))\n",
    "print(get_number_of_jobs('c++'))\n",
    "print(get_number_of_jobs('c#'))\n",
    "print(get_number_of_jobs('java'))\n",
    "print(get_number_of_jobs('javascript'))\n",
    "print(get_number_of_jobs('python'))\n",
    "print(get_number_of_jobs('scala'))\n",
    "print(get_number_of_jobs('oracle'))\n",
    "print(get_number_of_jobs('sql server'))\n",
    "print(get_number_of_jobs('mysql server'))\n",
    "print(get_number_of_jobs('postgresql'))\n",
    "print(get_number_of_jobs('mongodb'))"
   ]
  },
  {
   "cell_type": "code",
   "execution_count": 32,
   "metadata": {},
   "outputs": [
    {
     "data": {
      "text/plain": [
       "'/Users/riddhi/job_data.xlsx'"
      ]
     },
     "execution_count": 32,
     "metadata": {},
     "output_type": "execute_result"
    }
   ],
   "source": [
    "import os\n",
    "path = os.path.join(os.getcwd(),'job_data.xlsx')\n",
    "path"
   ]
  },
  {
   "cell_type": "code",
   "execution_count": 47,
   "metadata": {},
   "outputs": [
    {
     "data": {
      "text/html": [
       "<div>\n",
       "<style scoped>\n",
       "    .dataframe tbody tr th:only-of-type {\n",
       "        vertical-align: middle;\n",
       "    }\n",
       "\n",
       "    .dataframe tbody tr th {\n",
       "        vertical-align: top;\n",
       "    }\n",
       "\n",
       "    .dataframe thead th {\n",
       "        text-align: right;\n",
       "    }\n",
       "</style>\n",
       "<table border=\"1\" class=\"dataframe\">\n",
       "  <thead>\n",
       "    <tr style=\"text-align: right;\">\n",
       "      <th></th>\n",
       "      <th>jobs</th>\n",
       "      <th>tech</th>\n",
       "    </tr>\n",
       "  </thead>\n",
       "  <tbody>\n",
       "    <tr>\n",
       "      <th>0</th>\n",
       "      <td>197.0</td>\n",
       "      <td>c</td>\n",
       "    </tr>\n",
       "    <tr>\n",
       "      <th>1</th>\n",
       "      <td>14.0</td>\n",
       "      <td>c++</td>\n",
       "    </tr>\n",
       "    <tr>\n",
       "      <th>2</th>\n",
       "      <td>12.0</td>\n",
       "      <td>c#</td>\n",
       "    </tr>\n",
       "    <tr>\n",
       "      <th>3</th>\n",
       "      <td>122.0</td>\n",
       "      <td>java</td>\n",
       "    </tr>\n",
       "    <tr>\n",
       "      <th>4</th>\n",
       "      <td>103.0</td>\n",
       "      <td>javascript</td>\n",
       "    </tr>\n",
       "    <tr>\n",
       "      <th>5</th>\n",
       "      <td>38.0</td>\n",
       "      <td>python</td>\n",
       "    </tr>\n",
       "    <tr>\n",
       "      <th>6</th>\n",
       "      <td>39.0</td>\n",
       "      <td>scala</td>\n",
       "    </tr>\n",
       "    <tr>\n",
       "      <th>7</th>\n",
       "      <td>4.0</td>\n",
       "      <td>oracle</td>\n",
       "    </tr>\n",
       "    <tr>\n",
       "      <th>8</th>\n",
       "      <td>12.0</td>\n",
       "      <td>sql server</td>\n",
       "    </tr>\n",
       "    <tr>\n",
       "      <th>9</th>\n",
       "      <td>2.0</td>\n",
       "      <td>mysql server</td>\n",
       "    </tr>\n",
       "    <tr>\n",
       "      <th>10</th>\n",
       "      <td>11.0</td>\n",
       "      <td>postgresql</td>\n",
       "    </tr>\n",
       "    <tr>\n",
       "      <th>11</th>\n",
       "      <td>6.0</td>\n",
       "      <td>mongodb</td>\n",
       "    </tr>\n",
       "  </tbody>\n",
       "</table>\n",
       "</div>"
      ],
      "text/plain": [
       "     jobs          tech\n",
       "0   197.0             c\n",
       "1    14.0           c++\n",
       "2    12.0            c#\n",
       "3   122.0          java\n",
       "4   103.0    javascript\n",
       "5    38.0        python\n",
       "6    39.0         scala\n",
       "7     4.0        oracle\n",
       "8    12.0    sql server\n",
       "9     2.0  mysql server\n",
       "10   11.0    postgresql\n",
       "11    6.0       mongodb"
      ]
     },
     "execution_count": 47,
     "metadata": {},
     "output_type": "execute_result"
    }
   ],
   "source": [
    "import pandas as pd \n",
    "import json\n",
    "df = pd.DataFrame()\n",
    "for lang in list_languages:\n",
    "    data = json.loads(get_number_of_jobs(lang))\n",
    "    df = df.append(data, ignore_index=True)\n",
    "df"
   ]
  },
  {
   "cell_type": "code",
   "execution_count": 51,
   "metadata": {},
   "outputs": [],
   "source": [
    "from openpyxl import Workbook\n",
    "from openpyxl.utils.dataframe import dataframe_to_rows\n",
    "wb = Workbook()"
   ]
  },
  {
   "cell_type": "code",
   "execution_count": 52,
   "metadata": {},
   "outputs": [],
   "source": [
    "sheet1 = wb.create_sheet('sheet1',0)"
   ]
  },
  {
   "cell_type": "code",
   "execution_count": 53,
   "metadata": {},
   "outputs": [],
   "source": [
    "active = wb['sheet1']\n",
    "for x in dataframe_to_rows(df):\n",
    "    active.append(x)\n",
    "wb.save(path)"
   ]
  }
 ],
 "metadata": {
  "kernelspec": {
   "display_name": "Python 3",
   "language": "python",
   "name": "python3"
  },
  "language_info": {
   "codemirror_mode": {
    "name": "ipython",
    "version": 3
   },
   "file_extension": ".py",
   "mimetype": "text/x-python",
   "name": "python",
   "nbconvert_exporter": "python",
   "pygments_lexer": "ipython3",
   "version": "3.6.4"
  }
 },
 "nbformat": 4,
 "nbformat_minor": 2
}
